{
 "cells": [
  {
   "cell_type": "code",
   "id": "initial_id",
   "metadata": {
    "collapsed": true,
    "ExecuteTime": {
     "end_time": "2025-05-18T08:51:46.255273Z",
     "start_time": "2025-05-18T08:51:46.253316Z"
    }
   },
   "source": [
    "from ortools.sat.python import cp_model\n",
    "import pandas as pd\n",
    "import joblib\n",
    "from datetime import timedelta\n",
    "import math"
   ],
   "outputs": [],
   "execution_count": 109
  },
  {
   "metadata": {
    "ExecuteTime": {
     "end_time": "2025-05-18T08:51:46.276868Z",
     "start_time": "2025-05-18T08:51:46.269309Z"
    }
   },
   "cell_type": "code",
   "source": [
    "df = pd.read_csv(\n",
    "    \"data/test_input.csv\",\n",
    "    dtype={\n",
    "        \"imo\": \"int32\",\n",
    "        \"company_name\": \"object\",\n",
    "        \"ship_type\": \"object\",\n",
    "        \"gt\": \"int64\",\n",
    "        \"dwt\": \"int64\",\n",
    "        \"length\": \"int64\",\n",
    "        \"width\": \"int64\",\n",
    "        \"age\": \"int64\",\n",
    "        \"fuel_consumption\": \"float64\",\n",
    "    },\n",
    "    parse_dates=[\"eta\"]\n",
    ")\n",
    "\n",
    "model = joblib.load(\"models/trained.pkl\")\n",
    "\n",
    "features = [\n",
    "    \"gt\", \"dwt\",\"length\", \"width\", \"age\",\n",
    "    \"fuel_consumption\",\n",
    "    \"ship_type\",\"company_name\",\n",
    "    \"median_time_in_port_hours\",\n",
    "    \"tech_eff_index\",\n",
    "    \"tech_eff_value\",\n",
    "]\n",
    "\n",
    "df[\"pred_turnaround_h\"] = model.predict(df[features])\n",
    "\n",
    "EF_CO2 = 3.114\n",
    "df[\"fuel_tph_alongside\"] = df[\"fuel_consumption\"] / 24 * 0.15\n",
    "df[\"co2_rate_tph\"] = df[\"fuel_tph_alongside\"] * EF_CO2\n"
   ],
   "id": "7b0e76c75c1513e8",
   "outputs": [],
   "execution_count": 110
  },
  {
   "metadata": {
    "ExecuteTime": {
     "end_time": "2025-05-18T08:51:46.502408Z",
     "start_time": "2025-05-18T08:51:46.495669Z"
    }
   },
   "cell_type": "code",
   "source": [
    "B = 5\n",
    "\n",
    "model = cp_model.CpModel()\n",
    "time_unit_min = 10\n",
    "gap_slots      = 1   # one 10-min slot buffer\n",
    "horizon_start = df[\"eta\"].min().floor(\"h\")\n",
    "horizon_end   = horizon_start + timedelta(\n",
    "    hours=df[\"pred_turnaround_h\"].sum() / B + 48\n",
    ")\n",
    "\n",
    "total_minutes = (horizon_end - horizon_start).total_seconds() / 60\n",
    "horizon_slots = math.ceil(total_minutes / time_unit_min)\n",
    "\n",
    "pres = {}    # pres[i,b] = BoolVar: “ship i uses berth b?”\n",
    "start = {}   # start[i,b] = IntVar: berth‐start slot if pres==1\n",
    "interval = {} # interval[i,b] = OptionalIntervalVar(start, dur, start + dur, pres)\n",
    "\n",
    "\n",
    "for i, ship in df.iterrows():\n",
    "    dur = int(ship[\"pred_turnaround_h\"] * 60 / time_unit_min)\n",
    "    eta_off = math.ceil(\n",
    "        (ship[\"eta\"] - horizon_start).total_seconds()\n",
    "        / (60 * time_unit_min)\n",
    "    )\n",
    "\n",
    "    dur_slots = int(ship[\"pred_turnaround_h\"] * 60 / time_unit_min)\n",
    "\n",
    "    pres[i] = {}\n",
    "    start[i] = {}\n",
    "    interval[i] = {}\n",
    "    for b in range(B):\n",
    "        pres[i][b] = model.NewBoolVar(f\"pres_s{i}_b{b}\")\n",
    "\n",
    "        start[i][b] = model.NewIntVar(\n",
    "            eta_off, horizon_slots - dur_slots - gap_slots,\n",
    "            f\"start_s{i}_b{b}\"\n",
    "        )\n",
    "        # extend interval by gap_slots for no-overlap\n",
    "        interval[i][b] = model.NewOptionalIntervalVar(\n",
    "            start[i][b],\n",
    "            dur_slots + gap_slots,\n",
    "            start[i][b] + dur_slots + gap_slots,\n",
    "            pres[i][b],\n",
    "            f\"int_s{i}_b{b}\"\n",
    "        )\n",
    "\n",
    "# Constraints definition\n",
    "for i in pres:\n",
    "    model.Add(sum(pres[i].values()) == 1)\n",
    "\n",
    "for b in range(B):\n",
    "    model.AddNoOverlap([interval[i][b]\n",
    "                         for i in pres\n",
    "                         if b in pres[i]])\n"
   ],
   "id": "be0b1a38837a97d1",
   "outputs": [],
   "execution_count": 111
  },
  {
   "metadata": {
    "ExecuteTime": {
     "end_time": "2025-05-18T08:51:46.773325Z",
     "start_time": "2025-05-18T08:51:46.767534Z"
    }
   },
   "cell_type": "code",
   "source": [
    "# build the objective function\n",
    "wait_penalty_hr  = 1000    # $/hour\n",
    "co2_price_per_t  =  80     # $ per tonne CO₂\n",
    "\n",
    "wait_penalty_slot = int(wait_penalty_hr * time_unit_min / 60)\n",
    "\n",
    "wait_slots = {}\n",
    "for i, ship in df.iterrows():\n",
    "    wait_slots[i] = {}\n",
    "    eta_off = math.ceil(\n",
    "        (ship[\"eta\"] - horizon_start).total_seconds()\n",
    "        / (60 * time_unit_min)\n",
    "    )\n",
    "    for b in pres[i]:\n",
    "        w = model.NewIntVar(0, horizon_slots, f\"wait_s{i}_b{b}\")\n",
    "        wait_slots[i][b] = w\n",
    "        model.Add(w == start[i][b] - eta_off).OnlyEnforceIf(pres[i][b])\n",
    "        model.Add(w == 0).OnlyEnforceIf(pres[i][b].Not())\n",
    "\n",
    "cii_score = {\"A\": 4, \"B\": 3, \"C\": 2, \"D\": 1, \"E\": 0}\n",
    "cii_weight = 100\n",
    "\n",
    "obj_terms = []\n",
    "for i, ship in df.iterrows():\n",
    "    co2_cost = int(ship[\"pred_turnaround_h\"]\n",
    "                   * ship.co2_rate_tph\n",
    "                   * co2_price_per_t)\n",
    "\n",
    "    score = cii_score.get(ship[\"cii_rating\"], 0)\n",
    "\n",
    "    for b in pres[i]:\n",
    "        p = pres[i][b]\n",
    "        # waiting cost: slots * $/slot\n",
    "        obj_terms.append(wait_slots[i][b] * wait_penalty_slot)\n",
    "        # eco cost: constant * bool\n",
    "        obj_terms.append(co2_cost * p)\n",
    "        # c) CII “bonus” → subtract to reward green ships\n",
    "        #    (A=4 → −400, B=3 → −300, … E=0 → 0)\n",
    "        obj_terms.append(- score * cii_weight * p)\n",
    "\n",
    "model.Minimize(sum(obj_terms))"
   ],
   "id": "2bee2446636d3d31",
   "outputs": [],
   "execution_count": 112
  },
  {
   "metadata": {
    "ExecuteTime": {
     "end_time": "2025-05-18T08:51:57.185003Z",
     "start_time": "2025-05-18T08:51:47.057089Z"
    }
   },
   "cell_type": "code",
   "source": [
    "solver = cp_model.CpSolver()\n",
    "solver.parameters.max_time_in_seconds = 10\n",
    "status = solver.Solve(model)\n",
    "if status not in (cp_model.OPTIMAL, cp_model.FEASIBLE):\n",
    "    raise RuntimeError(\"No feasible schedule found\")\n",
    "\n",
    "if status in (cp_model.OPTIMAL, cp_model.FEASIBLE):\n",
    "    print(\"Solution found.\")\n",
    "    print(\"Schedule:\")\n",
    "    for i, ship in df.iterrows():\n",
    "         if i in pres:\n",
    "             for b in range(B):\n",
    "                 if solver.Value(pres[i][b]):\n",
    "                     start_time = horizon_start + timedelta(minutes=solver.Value(start[i][b]) * time_unit_min)\n",
    "                     dur_slots = int(ship[\"pred_turnaround_h\"] * 60 / time_unit_min)\n",
    "                     end_time  = start_time + timedelta(minutes=dur_slots * time_unit_min)\n",
    "                     wait_time = solver.Value(wait_slots[i][b]) * time_unit_min / 60\n",
    "                     print(f\"Ship {i} assigned to Berth {b}: Start={start_time.strftime('%Y-%m-%d %H:%M')}, End={end_time.strftime('%Y-%m-%d %H:%M')}, Wait={wait_time:.2f} hours\")\n",
    "\n",
    "    print(f\"Objective value: {solver.ObjectiveValue()}\")\n",
    "\n"
   ],
   "id": "139f16e887576d8d",
   "outputs": [
    {
     "name": "stdout",
     "output_type": "stream",
     "text": [
      "Solution found.\n",
      "Schedule:\n",
      "Ship 0 assigned to Berth 4: Start=2025-05-18 06:30, End=2025-05-19 02:40, Wait=0.00 hours\n",
      "Ship 1 assigned to Berth 2: Start=2025-05-18 07:20, End=2025-05-19 02:50, Wait=0.00 hours\n",
      "Ship 2 assigned to Berth 3: Start=2025-05-18 08:00, End=2025-05-19 04:10, Wait=0.00 hours\n",
      "Ship 3 assigned to Berth 1: Start=2025-05-18 09:50, End=2025-05-19 05:40, Wait=0.00 hours\n",
      "Ship 4 assigned to Berth 0: Start=2025-05-18 10:30, End=2025-05-19 06:00, Wait=0.00 hours\n",
      "Ship 5 assigned to Berth 4: Start=2025-05-19 02:50, End=2025-05-19 23:10, Wait=15.50 hours\n",
      "Ship 6 assigned to Berth 3: Start=2025-05-19 04:20, End=2025-05-20 00:10, Wait=15.50 hours\n",
      "Ship 7 assigned to Berth 0: Start=2025-05-19 06:10, End=2025-05-20 02:10, Wait=16.50 hours\n",
      "Ship 8 assigned to Berth 1: Start=2025-05-19 05:50, End=2025-05-20 01:40, Wait=15.50 hours\n",
      "Ship 9 assigned to Berth 2: Start=2025-05-19 03:00, End=2025-05-19 22:30, Wait=11.83 hours\n",
      "Objective value: 102567.99999999999\n"
     ]
    }
   ],
   "execution_count": 113
  }
 ],
 "metadata": {
  "kernelspec": {
   "display_name": "Python 3",
   "language": "python",
   "name": "python3"
  },
  "language_info": {
   "codemirror_mode": {
    "name": "ipython",
    "version": 2
   },
   "file_extension": ".py",
   "mimetype": "text/x-python",
   "name": "python",
   "nbconvert_exporter": "python",
   "pygments_lexer": "ipython2",
   "version": "2.7.6"
  }
 },
 "nbformat": 4,
 "nbformat_minor": 5
}
